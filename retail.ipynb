{
  "nbformat": 4,
  "nbformat_minor": 0,
  "metadata": {
    "colab": {
      "name": "retail.ipynb",
      "provenance": [],
      "collapsed_sections": [],
      "authorship_tag": "ABX9TyPoHF7Dr8VPTyjOdQen5a4Z",
      "include_colab_link": true
    },
    "kernelspec": {
      "name": "python3",
      "display_name": "Python 3"
    },
    "language_info": {
      "name": "python"
    }
  },
  "cells": [
    {
      "cell_type": "markdown",
      "metadata": {
        "id": "view-in-github",
        "colab_type": "text"
      },
      "source": [
        "<a href=\"https://colab.research.google.com/github/omkar-rayala/Rossmann-Stores-Sales-Prediction/blob/main/retail.ipynb\" target=\"_parent\"><img src=\"https://colab.research.google.com/assets/colab-badge.svg\" alt=\"Open In Colab\"/></a>"
      ]
    },
    {
      "cell_type": "code",
      "metadata": {
        "colab": {
          "base_uri": "https://localhost:8080/"
        },
        "id": "UWz2XMt7xE2K",
        "outputId": "b8fc2621-1d28-4ad7-d59a-aaa3512c8a56"
      },
      "source": [
        "from google.colab import drive\n",
        "drive.mount(\"/content/gdrive\")"
      ],
      "execution_count": null,
      "outputs": [
        {
          "output_type": "stream",
          "name": "stdout",
          "text": [
            "Mounted at /content/gdrive\n"
          ]
        }
      ]
    },
    {
      "cell_type": "code",
      "metadata": {
        "id": "ec81BmBwxZXb"
      },
      "source": [
        "  import pandas as pd\n",
        "  import numpy as np\n",
        "  import seaborn as sns\n",
        "  import matplotlib.pyplot as plt\n",
        "  from numpy import math\n"
      ],
      "execution_count": null,
      "outputs": []
    },
    {
      "cell_type": "code",
      "metadata": {
        "id": "-opcBtg7xdj8"
      },
      "source": [
        "df = pd.read_csv(\"/content/gdrive/MyDrive/Retail Sales Prediction/merge_df.csv\")\n"
      ],
      "execution_count": null,
      "outputs": []
    },
    {
      "cell_type": "code",
      "metadata": {
        "colab": {
          "base_uri": "https://localhost:8080/"
        },
        "id": "znyqjBIvxtmA",
        "outputId": "144949e7-327e-46d0-e563-3e7da338bef7"
      },
      "source": [
        "df.info()"
      ],
      "execution_count": null,
      "outputs": [
        {
          "output_type": "stream",
          "name": "stdout",
          "text": [
            "<class 'pandas.core.frame.DataFrame'>\n",
            "RangeIndex: 1017209 entries, 0 to 1017208\n",
            "Data columns (total 22 columns):\n",
            " #   Column                     Non-Null Count    Dtype  \n",
            "---  ------                     --------------    -----  \n",
            " 0   Store                      1017209 non-null  int64  \n",
            " 1   DayOfWeek                  1017209 non-null  int64  \n",
            " 2   Date                       1017209 non-null  object \n",
            " 3   Sales                      1017209 non-null  int64  \n",
            " 4   Customers                  1017209 non-null  int64  \n",
            " 5   Open                       1017209 non-null  int64  \n",
            " 6   Promo                      1017209 non-null  int64  \n",
            " 7   StateHoliday               1017209 non-null  int64  \n",
            " 8   SchoolHoliday              1017209 non-null  int64  \n",
            " 9   StoreType                  1017209 non-null  object \n",
            " 10  Assortment                 1017209 non-null  object \n",
            " 11  CompetitionDistance        1017209 non-null  float64\n",
            " 12  CompetitionOpenSinceMonth  693861 non-null   float64\n",
            " 13  CompetitionOpenSinceYear   693861 non-null   float64\n",
            " 14  Promo2                     1017209 non-null  int64  \n",
            " 15  Promo2SinceWeek            509178 non-null   float64\n",
            " 16  Promo2SinceYear            509178 non-null   float64\n",
            " 17  PromoInterval              509178 non-null   object \n",
            " 18  Year                       1017209 non-null  int64  \n",
            " 19  Month                      1017209 non-null  int64  \n",
            " 20  Day                        1017209 non-null  int64  \n",
            " 21  WeekOfYear                 1017209 non-null  int64  \n",
            "dtypes: float64(5), int64(13), object(4)\n",
            "memory usage: 170.7+ MB\n"
          ]
        }
      ]
    },
    {
      "cell_type": "code",
      "metadata": {
        "colab": {
          "base_uri": "https://localhost:8080/",
          "height": 313
        },
        "id": "6Buooh1myqus",
        "outputId": "84c3be18-105b-4a0b-bf04-f557c53e0fef"
      },
      "source": [
        "df.head()"
      ],
      "execution_count": null,
      "outputs": [
        {
          "output_type": "execute_result",
          "data": {
            "text/html": [
              "<div>\n",
              "<style scoped>\n",
              "    .dataframe tbody tr th:only-of-type {\n",
              "        vertical-align: middle;\n",
              "    }\n",
              "\n",
              "    .dataframe tbody tr th {\n",
              "        vertical-align: top;\n",
              "    }\n",
              "\n",
              "    .dataframe thead th {\n",
              "        text-align: right;\n",
              "    }\n",
              "</style>\n",
              "<table border=\"1\" class=\"dataframe\">\n",
              "  <thead>\n",
              "    <tr style=\"text-align: right;\">\n",
              "      <th></th>\n",
              "      <th>Store</th>\n",
              "      <th>DayOfWeek</th>\n",
              "      <th>Date</th>\n",
              "      <th>Sales</th>\n",
              "      <th>Customers</th>\n",
              "      <th>Open</th>\n",
              "      <th>Promo</th>\n",
              "      <th>StateHoliday</th>\n",
              "      <th>SchoolHoliday</th>\n",
              "      <th>StoreType</th>\n",
              "      <th>Assortment</th>\n",
              "      <th>CompetitionDistance</th>\n",
              "      <th>CompetitionOpenSinceMonth</th>\n",
              "      <th>CompetitionOpenSinceYear</th>\n",
              "      <th>Promo2</th>\n",
              "      <th>Promo2SinceWeek</th>\n",
              "      <th>Promo2SinceYear</th>\n",
              "      <th>PromoInterval</th>\n",
              "      <th>Year</th>\n",
              "      <th>Month</th>\n",
              "      <th>Day</th>\n",
              "      <th>WeekOfYear</th>\n",
              "    </tr>\n",
              "  </thead>\n",
              "  <tbody>\n",
              "    <tr>\n",
              "      <th>0</th>\n",
              "      <td>1</td>\n",
              "      <td>5</td>\n",
              "      <td>2015-07-31</td>\n",
              "      <td>5263</td>\n",
              "      <td>555</td>\n",
              "      <td>1</td>\n",
              "      <td>1</td>\n",
              "      <td>0</td>\n",
              "      <td>1</td>\n",
              "      <td>c</td>\n",
              "      <td>a</td>\n",
              "      <td>1270.0</td>\n",
              "      <td>9.0</td>\n",
              "      <td>2008.0</td>\n",
              "      <td>0</td>\n",
              "      <td>NaN</td>\n",
              "      <td>NaN</td>\n",
              "      <td>NaN</td>\n",
              "      <td>2015</td>\n",
              "      <td>7</td>\n",
              "      <td>31</td>\n",
              "      <td>31</td>\n",
              "    </tr>\n",
              "    <tr>\n",
              "      <th>1</th>\n",
              "      <td>1</td>\n",
              "      <td>4</td>\n",
              "      <td>2015-07-30</td>\n",
              "      <td>5020</td>\n",
              "      <td>546</td>\n",
              "      <td>1</td>\n",
              "      <td>1</td>\n",
              "      <td>0</td>\n",
              "      <td>1</td>\n",
              "      <td>c</td>\n",
              "      <td>a</td>\n",
              "      <td>1270.0</td>\n",
              "      <td>9.0</td>\n",
              "      <td>2008.0</td>\n",
              "      <td>0</td>\n",
              "      <td>NaN</td>\n",
              "      <td>NaN</td>\n",
              "      <td>NaN</td>\n",
              "      <td>2015</td>\n",
              "      <td>7</td>\n",
              "      <td>30</td>\n",
              "      <td>31</td>\n",
              "    </tr>\n",
              "    <tr>\n",
              "      <th>2</th>\n",
              "      <td>1</td>\n",
              "      <td>3</td>\n",
              "      <td>2015-07-29</td>\n",
              "      <td>4782</td>\n",
              "      <td>523</td>\n",
              "      <td>1</td>\n",
              "      <td>1</td>\n",
              "      <td>0</td>\n",
              "      <td>1</td>\n",
              "      <td>c</td>\n",
              "      <td>a</td>\n",
              "      <td>1270.0</td>\n",
              "      <td>9.0</td>\n",
              "      <td>2008.0</td>\n",
              "      <td>0</td>\n",
              "      <td>NaN</td>\n",
              "      <td>NaN</td>\n",
              "      <td>NaN</td>\n",
              "      <td>2015</td>\n",
              "      <td>7</td>\n",
              "      <td>29</td>\n",
              "      <td>31</td>\n",
              "    </tr>\n",
              "    <tr>\n",
              "      <th>3</th>\n",
              "      <td>1</td>\n",
              "      <td>2</td>\n",
              "      <td>2015-07-28</td>\n",
              "      <td>5011</td>\n",
              "      <td>560</td>\n",
              "      <td>1</td>\n",
              "      <td>1</td>\n",
              "      <td>0</td>\n",
              "      <td>1</td>\n",
              "      <td>c</td>\n",
              "      <td>a</td>\n",
              "      <td>1270.0</td>\n",
              "      <td>9.0</td>\n",
              "      <td>2008.0</td>\n",
              "      <td>0</td>\n",
              "      <td>NaN</td>\n",
              "      <td>NaN</td>\n",
              "      <td>NaN</td>\n",
              "      <td>2015</td>\n",
              "      <td>7</td>\n",
              "      <td>28</td>\n",
              "      <td>31</td>\n",
              "    </tr>\n",
              "    <tr>\n",
              "      <th>4</th>\n",
              "      <td>1</td>\n",
              "      <td>1</td>\n",
              "      <td>2015-07-27</td>\n",
              "      <td>6102</td>\n",
              "      <td>612</td>\n",
              "      <td>1</td>\n",
              "      <td>1</td>\n",
              "      <td>0</td>\n",
              "      <td>1</td>\n",
              "      <td>c</td>\n",
              "      <td>a</td>\n",
              "      <td>1270.0</td>\n",
              "      <td>9.0</td>\n",
              "      <td>2008.0</td>\n",
              "      <td>0</td>\n",
              "      <td>NaN</td>\n",
              "      <td>NaN</td>\n",
              "      <td>NaN</td>\n",
              "      <td>2015</td>\n",
              "      <td>7</td>\n",
              "      <td>27</td>\n",
              "      <td>31</td>\n",
              "    </tr>\n",
              "  </tbody>\n",
              "</table>\n",
              "</div>"
            ],
            "text/plain": [
              "   Store  DayOfWeek        Date  Sales  ...  Year  Month  Day  WeekOfYear\n",
              "0      1          5  2015-07-31   5263  ...  2015      7   31          31\n",
              "1      1          4  2015-07-30   5020  ...  2015      7   30          31\n",
              "2      1          3  2015-07-29   4782  ...  2015      7   29          31\n",
              "3      1          2  2015-07-28   5011  ...  2015      7   28          31\n",
              "4      1          1  2015-07-27   6102  ...  2015      7   27          31\n",
              "\n",
              "[5 rows x 22 columns]"
            ]
          },
          "metadata": {},
          "execution_count": 5
        }
      ]
    },
    {
      "cell_type": "code",
      "metadata": {
        "id": "YzteH77czBF9"
      },
      "source": [
        "df = df.drop(columns= ['Date','Promo2SinceWeek','Promo2SinceYear','PromoInterval'])"
      ],
      "execution_count": null,
      "outputs": []
    },
    {
      "cell_type": "code",
      "metadata": {
        "colab": {
          "base_uri": "https://localhost:8080/"
        },
        "id": "L0bjrUYszlhA",
        "outputId": "bfe44ed2-37aa-45f6-878b-2aa7b08daba2"
      },
      "source": [
        "df.info()"
      ],
      "execution_count": null,
      "outputs": [
        {
          "output_type": "stream",
          "name": "stdout",
          "text": [
            "<class 'pandas.core.frame.DataFrame'>\n",
            "RangeIndex: 1017209 entries, 0 to 1017208\n",
            "Data columns (total 18 columns):\n",
            " #   Column                     Non-Null Count    Dtype  \n",
            "---  ------                     --------------    -----  \n",
            " 0   Store                      1017209 non-null  int64  \n",
            " 1   DayOfWeek                  1017209 non-null  int64  \n",
            " 2   Sales                      1017209 non-null  int64  \n",
            " 3   Customers                  1017209 non-null  int64  \n",
            " 4   Open                       1017209 non-null  int64  \n",
            " 5   Promo                      1017209 non-null  int64  \n",
            " 6   StateHoliday               1017209 non-null  int64  \n",
            " 7   SchoolHoliday              1017209 non-null  int64  \n",
            " 8   StoreType                  1017209 non-null  object \n",
            " 9   Assortment                 1017209 non-null  object \n",
            " 10  CompetitionDistance        1017209 non-null  float64\n",
            " 11  CompetitionOpenSinceMonth  693861 non-null   float64\n",
            " 12  CompetitionOpenSinceYear   693861 non-null   float64\n",
            " 13  Promo2                     1017209 non-null  int64  \n",
            " 14  Year                       1017209 non-null  int64  \n",
            " 15  Month                      1017209 non-null  int64  \n",
            " 16  Day                        1017209 non-null  int64  \n",
            " 17  WeekOfYear                 1017209 non-null  int64  \n",
            "dtypes: float64(3), int64(13), object(2)\n",
            "memory usage: 139.7+ MB\n"
          ]
        }
      ]
    },
    {
      "cell_type": "code",
      "metadata": {
        "colab": {
          "base_uri": "https://localhost:8080/"
        },
        "id": "9FubYUKz1aI4",
        "outputId": "a4000a68-924a-4c0d-a4bf-f20f11ab2a19"
      },
      "source": [
        "df.isnull().sum()"
      ],
      "execution_count": null,
      "outputs": [
        {
          "output_type": "execute_result",
          "data": {
            "text/plain": [
              "Store                             0\n",
              "DayOfWeek                         0\n",
              "Sales                             0\n",
              "Customers                         0\n",
              "Open                              0\n",
              "Promo                             0\n",
              "StateHoliday                      0\n",
              "SchoolHoliday                     0\n",
              "StoreType                         0\n",
              "Assortment                        0\n",
              "CompetitionDistance               0\n",
              "CompetitionOpenSinceMonth    323348\n",
              "CompetitionOpenSinceYear     323348\n",
              "Promo2                            0\n",
              "Year                              0\n",
              "Month                             0\n",
              "Day                               0\n",
              "WeekOfYear                        0\n",
              "dtype: int64"
            ]
          },
          "metadata": {},
          "execution_count": 8
        }
      ]
    },
    {
      "cell_type": "code",
      "metadata": {
        "id": "Cyev78id4gck"
      },
      "source": [
        "df = df.fillna(-1)"
      ],
      "execution_count": null,
      "outputs": []
    },
    {
      "cell_type": "code",
      "metadata": {
        "colab": {
          "base_uri": "https://localhost:8080/"
        },
        "id": "qZBwlwwm4jcv",
        "outputId": "8c066ecf-3c10-4765-8875-5e50ea9bb1c8"
      },
      "source": [
        "df.isnull().sum()"
      ],
      "execution_count": null,
      "outputs": [
        {
          "output_type": "execute_result",
          "data": {
            "text/plain": [
              "Store                        0\n",
              "DayOfWeek                    0\n",
              "Sales                        0\n",
              "Customers                    0\n",
              "Open                         0\n",
              "Promo                        0\n",
              "StateHoliday                 0\n",
              "SchoolHoliday                0\n",
              "StoreType                    0\n",
              "Assortment                   0\n",
              "CompetitionDistance          0\n",
              "CompetitionOpenSinceMonth    0\n",
              "CompetitionOpenSinceYear     0\n",
              "Promo2                       0\n",
              "Year                         0\n",
              "Month                        0\n",
              "Day                          0\n",
              "WeekOfYear                   0\n",
              "dtype: int64"
            ]
          },
          "metadata": {},
          "execution_count": 10
        }
      ]
    },
    {
      "cell_type": "code",
      "metadata": {
        "id": "c7_OpUZ59fw9"
      },
      "source": [
        "df['StateHoliday'] = df['StateHoliday'].astype('category').cat.codes\n",
        "df['StoreType'] = df['StoreType'].astype('category').cat.codes\n",
        "df['Assortment'] = df['Assortment'].astype('category').cat.codes\n",
        "df['SchoolHoliday'] = df['SchoolHoliday'].astype('category').cat.codes"
      ],
      "execution_count": null,
      "outputs": []
    },
    {
      "cell_type": "code",
      "metadata": {
        "colab": {
          "base_uri": "https://localhost:8080/"
        },
        "id": "fBxDgA_p9u84",
        "outputId": "5ad8cf50-522d-4424-a775-2097d6a6d345"
      },
      "source": [
        "df.info()"
      ],
      "execution_count": null,
      "outputs": [
        {
          "output_type": "stream",
          "name": "stdout",
          "text": [
            "<class 'pandas.core.frame.DataFrame'>\n",
            "RangeIndex: 1017209 entries, 0 to 1017208\n",
            "Data columns (total 18 columns):\n",
            " #   Column                     Non-Null Count    Dtype  \n",
            "---  ------                     --------------    -----  \n",
            " 0   Store                      1017209 non-null  int64  \n",
            " 1   DayOfWeek                  1017209 non-null  int64  \n",
            " 2   Sales                      1017209 non-null  int64  \n",
            " 3   Customers                  1017209 non-null  int64  \n",
            " 4   Open                       1017209 non-null  int64  \n",
            " 5   Promo                      1017209 non-null  int64  \n",
            " 6   StateHoliday               1017209 non-null  int8   \n",
            " 7   SchoolHoliday              1017209 non-null  int8   \n",
            " 8   StoreType                  1017209 non-null  int8   \n",
            " 9   Assortment                 1017209 non-null  int8   \n",
            " 10  CompetitionDistance        1017209 non-null  float64\n",
            " 11  CompetitionOpenSinceMonth  1017209 non-null  float64\n",
            " 12  CompetitionOpenSinceYear   1017209 non-null  float64\n",
            " 13  Promo2                     1017209 non-null  int64  \n",
            " 14  Year                       1017209 non-null  int64  \n",
            " 15  Month                      1017209 non-null  int64  \n",
            " 16  Day                        1017209 non-null  int64  \n",
            " 17  WeekOfYear                 1017209 non-null  int64  \n",
            "dtypes: float64(3), int64(11), int8(4)\n",
            "memory usage: 112.5 MB\n"
          ]
        }
      ]
    },
    {
      "cell_type": "code",
      "metadata": {
        "colab": {
          "base_uri": "https://localhost:8080/",
          "height": 337
        },
        "id": "IJ-k3aJn7Z5o",
        "outputId": "fc4689c9-80ea-41a4-ecc1-568cbcc6c60d"
      },
      "source": [
        "sns.distplot(x = df['Sales'])"
      ],
      "execution_count": null,
      "outputs": [
        {
          "output_type": "stream",
          "name": "stderr",
          "text": [
            "/usr/local/lib/python3.7/dist-packages/seaborn/distributions.py:2619: FutureWarning: `distplot` is a deprecated function and will be removed in a future version. Please adapt your code to use either `displot` (a figure-level function with similar flexibility) or `histplot` (an axes-level function for histograms).\n",
            "  warnings.warn(msg, FutureWarning)\n"
          ]
        },
        {
          "output_type": "execute_result",
          "data": {
            "text/plain": [
              "<matplotlib.axes._subplots.AxesSubplot at 0x7fc4cd437c50>"
            ]
          },
          "metadata": {},
          "execution_count": 13
        },
        {
          "output_type": "display_data",
          "data": {
            "image/png": "[encoded data removed]",
            "text/plain": [
              "<Figure size 432x288 with 1 Axes>"
            ]
          },
          "metadata": {
            "needs_background": "light"
          }
        }
      ]
    },
    {
      "cell_type": "code",
      "metadata": {
        "id": "Muld3o3I-sKj"
      },
      "source": [
        "### Remove rows where store is open, but no sales.\n",
        "df = df.loc[~((df['Open'] == 1) & (df['Sales'] == 0))]"
      ],
      "execution_count": null,
      "outputs": []
    },
    {
      "cell_type": "code",
      "metadata": {
        "colab": {
          "base_uri": "https://localhost:8080/"
        },
        "id": "qkI8zdEaBwva",
        "outputId": "5e86854a-1b33-4954-a470-429f8e6ecac1"
      },
      "source": [
        "df.info()"
      ],
      "execution_count": null,
      "outputs": [
        {
          "output_type": "stream",
          "name": "stdout",
          "text": [
            "<class 'pandas.core.frame.DataFrame'>\n",
            "Int64Index: 1017155 entries, 0 to 1017208\n",
            "Data columns (total 18 columns):\n",
            " #   Column                     Non-Null Count    Dtype  \n",
            "---  ------                     --------------    -----  \n",
            " 0   Store                      1017155 non-null  int64  \n",
            " 1   DayOfWeek                  1017155 non-null  int64  \n",
            " 2   Sales                      1017155 non-null  int64  \n",
            " 3   Customers                  1017155 non-null  int64  \n",
            " 4   Open                       1017155 non-null  int64  \n",
            " 5   Promo                      1017155 non-null  int64  \n",
            " 6   StateHoliday               1017155 non-null  int8   \n",
            " 7   SchoolHoliday              1017155 non-null  int8   \n",
            " 8   StoreType                  1017155 non-null  int8   \n",
            " 9   Assortment                 1017155 non-null  int8   \n",
            " 10  CompetitionDistance        1017155 non-null  float64\n",
            " 11  CompetitionOpenSinceMonth  1017155 non-null  float64\n",
            " 12  CompetitionOpenSinceYear   1017155 non-null  float64\n",
            " 13  Promo2                     1017155 non-null  int64  \n",
            " 14  Year                       1017155 non-null  int64  \n",
            " 15  Month                      1017155 non-null  int64  \n",
            " 16  Day                        1017155 non-null  int64  \n",
            " 17  WeekOfYear                 1017155 non-null  int64  \n",
            "dtypes: float64(3), int64(11), int8(4)\n",
            "memory usage: 120.3 MB\n"
          ]
        }
      ]
    },
    {
      "cell_type": "code",
      "metadata": {
        "id": "EZX5YUrShlV4"
      },
      "source": [
        "dependent_feature = \"Sales\"\n",
        "independent_feature = list(set(df.columns.tolist()) - {dependent_feature})"
      ],
      "execution_count": null,
      "outputs": []
    },
    {
      "cell_type": "code",
      "metadata": {
        "colab": {
          "base_uri": "https://localhost:8080/"
        },
        "id": "reZtX_cjiqIp",
        "outputId": "6bccb681-5300-4b58-979f-1b7aba121333"
      },
      "source": [
        "independent_feature"
      ],
      "execution_count": null,
      "outputs": [
        {
          "output_type": "execute_result",
          "data": {
            "text/plain": [
              "['Year',\n",
              " 'Customers',\n",
              " 'Day',\n",
              " 'Open',\n",
              " 'Assortment',\n",
              " 'Promo',\n",
              " 'CompetitionDistance',\n",
              " 'StoreType',\n",
              " 'CompetitionOpenSinceYear',\n",
              " 'Month',\n",
              " 'DayOfWeek',\n",
              " 'Store',\n",
              " 'StateHoliday',\n",
              " 'SchoolHoliday',\n",
              " 'WeekOfYear',\n",
              " 'CompetitionOpenSinceMonth',\n",
              " 'Promo2']"
            ]
          },
          "metadata": {},
          "execution_count": 17
        }
      ]
    },
    {
      "cell_type": "code",
      "metadata": {
        "id": "WNTLlk7fjFhw"
      },
      "source": [
        "X = df[independent_feature].values\n",
        "y = df[dependent_feature].values"
      ],
      "execution_count": null,
      "outputs": []
    },
    {
      "cell_type": "code",
      "metadata": {
        "id": "AYysXRA9jFa4"
      },
      "source": [
        "from sklearn.model_selection import train_test_split\n",
        "X_train, X_test, y_train,y_test = train_test_split(X,y, test_size = 0.1, random_state = 42)"
      ],
      "execution_count": null,
      "outputs": []
    },
    {
      "cell_type": "code",
      "metadata": {
        "id": "9rEBYesK8T2n"
      },
      "source": [
        "from sklearn.linear_model import LinearRegression\n"
      ],
      "execution_count": null,
      "outputs": []
    },
    {
      "cell_type": "code",
      "metadata": {
        "colab": {
          "base_uri": "https://localhost:8080/"
        },
        "id": "N1ZpLai59SX_",
        "outputId": "9f309c5c-aa52-4c68-dcde-6dd1e4cfb381"
      },
      "source": [
        ""
      ],
      "execution_count": null,
      "outputs": [
        {
          "output_type": "execute_result",
          "data": {
            "text/plain": [
              "(915439, 17)"
            ]
          },
          "metadata": {},
          "execution_count": 21
        }
      ]
    },
    {
      "cell_type": "code",
      "metadata": {
        "colab": {
          "base_uri": "https://localhost:8080/"
        },
        "id": "yz9V6Rc08u5i",
        "outputId": "008af22d-178c-4214-86fc-e21d9e0bc6f3"
      },
      "source": [
        "linmodel = LinearRegression()\n",
        "linmodel.fit(X_train,y_train)"
      ],
      "execution_count": null,
      "outputs": [
        {
          "output_type": "execute_result",
          "data": {
            "text/plain": [
              "LinearRegression()"
            ]
          },
          "metadata": {},
          "execution_count": 21
        }
      ]
    },
    {
      "cell_type": "code",
      "metadata": {
        "colab": {
          "base_uri": "https://localhost:8080/"
        },
        "id": "zT4NtYUL9u1l",
        "outputId": "ecfa0ed2-2d74-41c7-d7b1-45716d1a5d7c"
      },
      "source": [
        "linmodel.intercept_"
      ],
      "execution_count": null,
      "outputs": [
        {
          "output_type": "execute_result",
          "data": {
            "text/plain": [
              "-291029.30154018704"
            ]
          },
          "metadata": {},
          "execution_count": 22
        }
      ]
    },
    {
      "cell_type": "code",
      "metadata": {
        "colab": {
          "base_uri": "https://localhost:8080/"
        },
        "id": "3Lugg4l4-A83",
        "outputId": "54d6c83c-21cd-4051-aa82-b0826e656960"
      },
      "source": [
        "linmodel.coef_"
      ],
      "execution_count": null,
      "outputs": [
        {
          "output_type": "execute_result",
          "data": {
            "text/plain": [
              "array([ 1.44322564e+02,  6.31330749e+00,  1.17748282e+00,  1.31609673e+03,\n",
              "        1.73464494e+02,  1.25086637e+03,  2.41474728e-02,  2.25120112e+02,\n",
              "        8.83044820e-02,  4.12792544e+01, -7.49924315e+01, -1.29416222e-01,\n",
              "       -7.63098577e+02,  4.14717747e+01, -1.63061603e+00, -5.56635356e+00,\n",
              "        2.03004555e+02])"
            ]
          },
          "metadata": {},
          "execution_count": 23
        }
      ]
    },
    {
      "cell_type": "code",
      "metadata": {
        "id": "YQdR6CGo-ETa"
      },
      "source": [
        "y_pred_train = linmodel.predict(X_train)"
      ],
      "execution_count": null,
      "outputs": []
    },
    {
      "cell_type": "code",
      "metadata": {
        "colab": {
          "base_uri": "https://localhost:8080/"
        },
        "id": "ISRi7hz8-bmP",
        "outputId": "e00cfe25-8e08-4dcd-d569-a6d1fc5e0bc2"
      },
      "source": [
        "y_train"
      ],
      "execution_count": null,
      "outputs": [
        {
          "output_type": "execute_result",
          "data": {
            "text/plain": [
              "array([3520, 7701, 4464, ..., 8173, 8058, 5241])"
            ]
          },
          "metadata": {},
          "execution_count": 25
        }
      ]
    },
    {
      "cell_type": "code",
      "metadata": {
        "id": "dpAHV9Ae-fti"
      },
      "source": [
        "y_pred = linmodel.predict(X_test)"
      ],
      "execution_count": null,
      "outputs": []
    },
    {
      "cell_type": "code",
      "metadata": {
        "colab": {
          "base_uri": "https://localhost:8080/"
        },
        "id": "ehesZQ9Q-qZD",
        "outputId": "a53f423d-39fb-45d4-d324-c59d293484e4"
      },
      "source": [
        "y_pred"
      ],
      "execution_count": null,
      "outputs": [
        {
          "output_type": "execute_result",
          "data": {
            "text/plain": [
              "array([7499.89451212, 5897.00882591,  558.37922292, ..., 5356.51758938,\n",
              "       8752.97694337, 4328.86110159])"
            ]
          },
          "metadata": {},
          "execution_count": 27
        }
      ]
    },
    {
      "cell_type": "code",
      "metadata": {
        "colab": {
          "base_uri": "https://localhost:8080/"
        },
        "id": "kfKRgxsY-xIm",
        "outputId": "84a06044-7d4f-46fe-d52f-5878f0b53976"
      },
      "source": [
        "y_test"
      ],
      "execution_count": null,
      "outputs": [
        {
          "output_type": "execute_result",
          "data": {
            "text/plain": [
              "array([8208, 5559,    0, ..., 6705, 8658, 3612])"
            ]
          },
          "metadata": {},
          "execution_count": 28
        }
      ]
    },
    {
      "cell_type": "code",
      "metadata": {
        "id": "gHTSwWug-1EU"
      },
      "source": [
        "from sklearn.metrics import mean_squared_error\n",
        "from sklearn.metrics import r2_score\n"
      ],
      "execution_count": null,
      "outputs": []
    },
    {
      "cell_type": "code",
      "metadata": {
        "colab": {
          "base_uri": "https://localhost:8080/"
        },
        "id": "bXvLsTNF_Hs1",
        "outputId": "7219c391-8c6c-425a-8343-3b7d327064ca"
      },
      "source": [
        "#train performance\n",
        "rmse = np.sqrt(mean_squared_error(y_train,y_pred_train))\n",
        "print(rmse)"
      ],
      "execution_count": null,
      "outputs": [
        {
          "output_type": "stream",
          "name": "stdout",
          "text": [
            "1398.8573101021461\n"
          ]
        }
      ]
    },
    {
      "cell_type": "code",
      "metadata": {
        "colab": {
          "base_uri": "https://localhost:8080/"
        },
        "id": "LJ6VZm54_hkO",
        "outputId": "1010160d-4862-4e46-cdf8-91bac07ba46a"
      },
      "source": [
        "#test performance\n",
        "math.sqrt(mean_squared_error(y_test,y_pred))"
      ],
      "execution_count": null,
      "outputs": [
        {
          "output_type": "execute_result",
          "data": {
            "text/plain": [
              "1397.3951441419747"
            ]
          },
          "metadata": {},
          "execution_count": 35
        }
      ]
    },
    {
      "cell_type": "code",
      "metadata": {
        "colab": {
          "base_uri": "https://localhost:8080/"
        },
        "id": "dZBRAAOHBbWB",
        "outputId": "b1b76784-9766-42ed-b8a9-d0fb54fa196e"
      },
      "source": [
        "r2_score(y_train, y_pred_train)"
      ],
      "execution_count": null,
      "outputs": [
        {
          "output_type": "execute_result",
          "data": {
            "text/plain": [
              "0.8679977021205301"
            ]
          },
          "metadata": {},
          "execution_count": 37
        }
      ]
    },
    {
      "cell_type": "code",
      "metadata": {
        "colab": {
          "base_uri": "https://localhost:8080/"
        },
        "id": "-bpjGzcsBkv3",
        "outputId": "8f0ae7cb-dc8a-46a0-8390-b59eef9d9e36"
      },
      "source": [
        "r2_score(y_test,y_pred)"
      ],
      "execution_count": null,
      "outputs": [
        {
          "output_type": "execute_result",
          "data": {
            "text/plain": [
              "0.8680001684373755"
            ]
          },
          "metadata": {},
          "execution_count": 38
        }
      ]
    },
    {
      "cell_type": "markdown",
      "metadata": {
        "id": "HY82_XTD_x0H"
      },
      "source": [
        "## Decision Tree"
      ]
    },
    {
      "cell_type": "code",
      "metadata": {
        "id": "XRdXHSZ6_2c6"
      },
      "source": [
        "from sklearn.tree import DecisionTreeRegressor\n",
        "X_train, X_test, y_train,y_test = train_test_split(X,y, test_size = 0.1, random_state = 42)"
      ],
      "execution_count": null,
      "outputs": []
    },
    {
      "cell_type": "code",
      "metadata": {
        "id": "QxOhaGtoC9T3"
      },
      "source": [
        "dtreereg = DecisionTreeRegressor()"
      ],
      "execution_count": null,
      "outputs": []
    },
    {
      "cell_type": "code",
      "metadata": {
        "colab": {
          "base_uri": "https://localhost:8080/"
        },
        "id": "oL-V7wsvDDpH",
        "outputId": "afb293e3-600b-48f4-c3ee-c4374173e231"
      },
      "source": [
        "dtreereg.fit(X_train, y_train)"
      ],
      "execution_count": null,
      "outputs": [
        {
          "output_type": "execute_result",
          "data": {
            "text/plain": [
              "DecisionTreeRegressor(ccp_alpha=0.0, criterion='mse', max_depth=None,\n",
              "                      max_features=None, max_leaf_nodes=None,\n",
              "                      min_impurity_decrease=0.0, min_impurity_split=None,\n",
              "                      min_samples_leaf=1, min_samples_split=2,\n",
              "                      min_weight_fraction_leaf=0.0, presort='deprecated',\n",
              "                      random_state=None, splitter='best')"
            ]
          },
          "metadata": {},
          "execution_count": 73
        }
      ]
    },
    {
      "cell_type": "code",
      "metadata": {
        "id": "2RpxK4w_E1Lp"
      },
      "source": [
        "y_pred_train = dtreereg.predict(X_train)"
      ],
      "execution_count": null,
      "outputs": []
    },
    {
      "cell_type": "code",
      "metadata": {
        "colab": {
          "base_uri": "https://localhost:8080/"
        },
        "id": "YIRxtQhiE6_w",
        "outputId": "749dbed6-f64c-41b5-a8fe-7cb37af06f26"
      },
      "source": [
        "y_pred_train"
      ],
      "execution_count": null,
      "outputs": [
        {
          "output_type": "execute_result",
          "data": {
            "text/plain": [
              "array([ 8366.,     0.,  5680., ...,  6636.,  5639., 11692.])"
            ]
          },
          "metadata": {},
          "execution_count": 75
        }
      ]
    },
    {
      "cell_type": "code",
      "metadata": {
        "colab": {
          "base_uri": "https://localhost:8080/"
        },
        "id": "I46z_wHjE_3t",
        "outputId": "96c3acfc-0f3d-4489-ffcf-318cb5e8f72e"
      },
      "source": [
        "y_train"
      ],
      "execution_count": null,
      "outputs": [
        {
          "output_type": "execute_result",
          "data": {
            "text/plain": [
              "array([ 8366,     0,  5680, ...,  6636,  5639, 11692])"
            ]
          },
          "metadata": {},
          "execution_count": 76
        }
      ]
    },
    {
      "cell_type": "code",
      "metadata": {
        "id": "b6VO2vmLDm72"
      },
      "source": [
        "y_pred = dtreereg.predict(X_test)"
      ],
      "execution_count": null,
      "outputs": []
    },
    {
      "cell_type": "code",
      "metadata": {
        "colab": {
          "base_uri": "https://localhost:8080/"
        },
        "id": "p7K_dpuuDx7W",
        "outputId": "75bfa40a-3780-45e3-9715-37393f0d0a9f"
      },
      "source": [
        "y_pred"
      ],
      "execution_count": null,
      "outputs": [
        {
          "output_type": "execute_result",
          "data": {
            "text/plain": [
              "array([ 5435.,  4616., 10468., ...,  4052.,   984.,  3139.])"
            ]
          },
          "metadata": {},
          "execution_count": 78
        }
      ]
    },
    {
      "cell_type": "code",
      "metadata": {
        "colab": {
          "base_uri": "https://localhost:8080/"
        },
        "id": "6VRWX5fsD0KR",
        "outputId": "4ae0231f-a333-4c0b-b374-f452e0f9e2e0"
      },
      "source": [
        "y_test"
      ],
      "execution_count": null,
      "outputs": [
        {
          "output_type": "execute_result",
          "data": {
            "text/plain": [
              "array([ 5178,  5212, 10886, ...,  3668,  1501,  3044])"
            ]
          },
          "metadata": {},
          "execution_count": 79
        }
      ]
    },
    {
      "cell_type": "code",
      "metadata": {
        "colab": {
          "base_uri": "https://localhost:8080/"
        },
        "id": "AmMcojF0Er7R",
        "outputId": "4818552e-ecd1-4b5e-9550-391690e60346"
      },
      "source": [
        "r2_score(y_test,y_pred)"
      ],
      "execution_count": null,
      "outputs": [
        {
          "output_type": "execute_result",
          "data": {
            "text/plain": [
              "0.9735165051807244"
            ]
          },
          "metadata": {},
          "execution_count": 80
        }
      ]
    },
    {
      "cell_type": "code",
      "metadata": {
        "colab": {
          "base_uri": "https://localhost:8080/"
        },
        "id": "zAMyzdMqFGFb",
        "outputId": "11bc96b3-6125-4297-8aab-ba92e29ec242"
      },
      "source": [
        "r2_score(y_pred_train,y_train)"
      ],
      "execution_count": null,
      "outputs": [
        {
          "output_type": "execute_result",
          "data": {
            "text/plain": [
              "1.0"
            ]
          },
          "metadata": {},
          "execution_count": 81
        }
      ]
    },
    {
      "cell_type": "code",
      "metadata": {
        "colab": {
          "base_uri": "https://localhost:8080/"
        },
        "id": "PPcjBvy6FY4y",
        "outputId": "9f7c8176-398d-4f07-b6c7-6994813853f7"
      },
      "source": [
        "math.sqrt(mean_squared_error(y_test,y_pred))"
      ],
      "execution_count": null,
      "outputs": [
        {
          "output_type": "execute_result",
          "data": {
            "text/plain": [
              "626.3420495624264"
            ]
          },
          "metadata": {},
          "execution_count": 82
        }
      ]
    },
    {
      "cell_type": "code",
      "metadata": {
        "colab": {
          "base_uri": "https://localhost:8080/"
        },
        "id": "ojng2jHlFfE2",
        "outputId": "d684dbf2-3e50-4cfb-e917-e9f79c5f9b07"
      },
      "source": [
        "print(math.sqrt(mean_squared_error(y_train,y_pred_train))) #train performance\n",
        "print(math.sqrt(mean_squared_error(y_test,y_pred))) #test performance\n",
        "print(r2_score(y_pred_train,y_train)) #rain performance\n",
        "print(r2_score(y_test,y_pred)) #test performance"
      ],
      "execution_count": null,
      "outputs": [
        {
          "output_type": "stream",
          "name": "stdout",
          "text": [
            "0.0\n",
            "626.3420495624264\n",
            "1.0\n",
            "0.9735165051807244\n"
          ]
        }
      ]
    },
    {
      "cell_type": "code",
      "metadata": {
        "colab": {
          "base_uri": "https://localhost:8080/"
        },
        "id": "Qy0-I52aoue-",
        "outputId": "9e9824ec-2ee2-4be7-e37f-4291d7f7e5ac"
      },
      "source": [
        "from sklearn.ensemble import RandomForestRegressor\n",
        "rf = RandomForestRegressor()\n",
        "rf.fit(X_train,y_train)\n"
      ],
      "execution_count": null,
      "outputs": [
        {
          "output_type": "execute_result",
          "data": {
            "text/plain": [
              "RandomForestRegressor()"
            ]
          },
          "metadata": {},
          "execution_count": 32
        }
      ]
    },
    {
      "cell_type": "code",
      "metadata": {
        "id": "psMa8Md2r8Gd"
      },
      "source": [
        "y_pred_train = rf.predict(X_train)"
      ],
      "execution_count": null,
      "outputs": []
    },
    {
      "cell_type": "code",
      "metadata": {
        "colab": {
          "base_uri": "https://localhost:8080/"
        },
        "id": "-aaSvZBwsRnI",
        "outputId": "217e2865-802b-4ce4-8919-56d97cff1f07"
      },
      "source": [
        "y_pred_train"
      ],
      "execution_count": null,
      "outputs": [
        {
          "output_type": "execute_result",
          "data": {
            "text/plain": [
              "array([3584.31, 7803.08, 4411.48, ..., 8309.67, 8043.98, 5231.87])"
            ]
          },
          "metadata": {},
          "execution_count": 34
        }
      ]
    },
    {
      "cell_type": "code",
      "metadata": {
        "id": "_clXmmw1sZmd"
      },
      "source": [
        "y_pred = rf.predict(X_test)"
      ],
      "execution_count": null,
      "outputs": []
    },
    {
      "cell_type": "code",
      "metadata": {
        "colab": {
          "base_uri": "https://localhost:8080/"
        },
        "id": "ABdcHmCCsqHd",
        "outputId": "25fbcaa8-8cf5-4d28-db3f-ff97e65208f0"
      },
      "source": [
        "y_pred"
      ],
      "execution_count": null,
      "outputs": [
        {
          "output_type": "execute_result",
          "data": {
            "text/plain": [
              "array([8458.34, 5013.02,    0.  , ..., 6843.2 , 8736.83, 3366.44])"
            ]
          },
          "metadata": {},
          "execution_count": 36
        }
      ]
    },
    {
      "cell_type": "code",
      "metadata": {
        "colab": {
          "base_uri": "https://localhost:8080/"
        },
        "id": "36gb5UtXswRe",
        "outputId": "513ecb93-7ff9-4a12-b820-3046da45a221"
      },
      "source": [
        "y_test"
      ],
      "execution_count": null,
      "outputs": [
        {
          "output_type": "execute_result",
          "data": {
            "text/plain": [
              "array([8208, 5559,    0, ..., 6705, 8658, 3612])"
            ]
          },
          "metadata": {},
          "execution_count": 37
        }
      ]
    },
    {
      "cell_type": "code",
      "metadata": {
        "colab": {
          "base_uri": "https://localhost:8080/"
        },
        "id": "phw3Torfs0qE",
        "outputId": "88a21a4f-2e2c-41f7-a5cf-eea31b1c0291"
      },
      "source": [
        "rmse = np.sqrt(mean_squared_error(y_train,y_pred_train))\n",
        "print(rmse)"
      ],
      "execution_count": null,
      "outputs": [
        {
          "output_type": "stream",
          "name": "stdout",
          "text": [
            "161.75840383928016\n"
          ]
        }
      ]
    },
    {
      "cell_type": "code",
      "metadata": {
        "colab": {
          "base_uri": "https://localhost:8080/"
        },
        "id": "TqAOT54Ns_Hx",
        "outputId": "70af4f2d-de40-4dd7-855c-7a486b24dfff"
      },
      "source": [
        "rmse = np.sqrt(mean_squared_error(y_test,y_pred))\n",
        "print(rmse)"
      ],
      "execution_count": null,
      "outputs": [
        {
          "output_type": "stream",
          "name": "stdout",
          "text": [
            "430.9902850195216\n"
          ]
        }
      ]
    },
    {
      "cell_type": "code",
      "metadata": {
        "id": "0xj2sdHEuCAR"
      },
      "source": [
        "from xgboost import XGBRegressor\n",
        "xgb = XGBRegressor(random_state=42, n_jobs=-1, objective='reg:squarederror')"
      ],
      "execution_count": null,
      "outputs": []
    },
    {
      "cell_type": "code",
      "metadata": {
        "colab": {
          "base_uri": "https://localhost:8080/"
        },
        "id": "98JOWNCJukSx",
        "outputId": "2265ac87-9eb2-4ed1-eda7-a6f4d86704dd"
      },
      "source": [
        "%%time\n",
        "xgb.fit(X_train,y_train)"
      ],
      "execution_count": null,
      "outputs": [
        {
          "output_type": "stream",
          "name": "stdout",
          "text": [
            "CPU times: user 2min 4s, sys: 507 ms, total: 2min 4s\n",
            "Wall time: 1min 3s\n"
          ]
        },
        {
          "output_type": "execute_result",
          "data": {
            "text/plain": [
              "XGBRegressor(n_jobs=-1, objective='reg:squarederror', random_state=42)"
            ]
          },
          "metadata": {},
          "execution_count": 41
        }
      ]
    },
    {
      "cell_type": "code",
      "metadata": {
        "id": "riclQG3awvBt"
      },
      "source": [
        "y_pred_train = xgb.predict(X_train)"
      ],
      "execution_count": null,
      "outputs": []
    },
    {
      "cell_type": "code",
      "metadata": {
        "colab": {
          "base_uri": "https://localhost:8080/"
        },
        "id": "hFPtiPgvwy4J",
        "outputId": "183f4f53-75ef-4469-d9e7-1323fe7a9f55"
      },
      "source": [
        "y_pred_train"
      ],
      "execution_count": null,
      "outputs": [
        {
          "output_type": "execute_result",
          "data": {
            "text/plain": [
              "array([4178.9966, 6681.1997, 4845.2837, ..., 8647.139 , 9256.211 ,\n",
              "       5076.797 ], dtype=float32)"
            ]
          },
          "metadata": {},
          "execution_count": 43
        }
      ]
    },
    {
      "cell_type": "code",
      "metadata": {
        "colab": {
          "base_uri": "https://localhost:8080/"
        },
        "id": "QUfZD6hXxAvi",
        "outputId": "47b8384e-1183-423a-e5d7-b2fe731a938f"
      },
      "source": [
        "y_train"
      ],
      "execution_count": null,
      "outputs": [
        {
          "output_type": "execute_result",
          "data": {
            "text/plain": [
              "array([3520, 7701, 4464, ..., 8173, 8058, 5241])"
            ]
          },
          "metadata": {},
          "execution_count": 44
        }
      ]
    },
    {
      "cell_type": "code",
      "metadata": {
        "id": "WMhF8WLvxJ5O"
      },
      "source": [
        "y_pred = xgb.predict(X_test)"
      ],
      "execution_count": null,
      "outputs": []
    },
    {
      "cell_type": "code",
      "metadata": {
        "colab": {
          "base_uri": "https://localhost:8080/"
        },
        "id": "YkFa6Y_fxQdw",
        "outputId": "7cf0acbd-5159-45e1-c144-e89c2e81f2d0"
      },
      "source": [
        "y_pred"
      ],
      "execution_count": null,
      "outputs": [
        {
          "output_type": "execute_result",
          "data": {
            "text/plain": [
              "array([8120.192  , 4934.298  ,  306.89124, ..., 5353.8013 , 9322.784  ,\n",
              "       4051.509  ], dtype=float32)"
            ]
          },
          "metadata": {},
          "execution_count": 46
        }
      ]
    },
    {
      "cell_type": "code",
      "metadata": {
        "colab": {
          "base_uri": "https://localhost:8080/"
        },
        "id": "QNLaV4EMxSfh",
        "outputId": "33043dfb-b62c-4408-9f59-a9c0508603e9"
      },
      "source": [
        "y_test"
      ],
      "execution_count": null,
      "outputs": [
        {
          "output_type": "execute_result",
          "data": {
            "text/plain": [
              "array([8208, 5559,    0, ..., 6705, 8658, 3612])"
            ]
          },
          "metadata": {},
          "execution_count": 47
        }
      ]
    },
    {
      "cell_type": "code",
      "metadata": {
        "colab": {
          "base_uri": "https://localhost:8080/"
        },
        "id": "yCYGv6fAxUuE",
        "outputId": "b4aba154-60d8-4b32-8da5-d36af3a1ad11"
      },
      "source": [
        "rmse = np.sqrt(mean_squared_error(y_train,y_pred_train))\n",
        "print(rmse)"
      ],
      "execution_count": null,
      "outputs": [
        {
          "output_type": "stream",
          "name": "stdout",
          "text": [
            "979.2894542384242\n"
          ]
        }
      ]
    },
    {
      "cell_type": "code",
      "metadata": {
        "colab": {
          "base_uri": "https://localhost:8080/"
        },
        "id": "9Sjr3ZcaxeHP",
        "outputId": "79b1a3ad-9a3b-4ae4-966b-5343b0844197"
      },
      "source": [
        "rmse = np.sqrt(mean_squared_error(y_test,y_pred))\n",
        "print(rmse)"
      ],
      "execution_count": null,
      "outputs": [
        {
          "output_type": "stream",
          "name": "stdout",
          "text": [
            "983.9013558859202\n"
          ]
        }
      ]
    },
    {
      "cell_type": "markdown",
      "metadata": {
        "id": "aMk4IJIty7Qh"
      },
      "source": [
        "### Tune Hyperparameters"
      ]
    },
    {
      "cell_type": "code",
      "metadata": {
        "id": "0fM-xO7uy-sp"
      },
      "source": [
        "def test_params(ModelClass, **params):\n",
        "    \"\"\"Trains a model with the given parameters and returns training & validation RMSE\"\"\"\n",
        "    model = ModelClass(**params).fit(X_train, y_train)\n",
        "    train_rmse = mean_squared_error(model.predict(X_train), y_train, squared=False)\n",
        "    test_rmse = mean_squared_error(model.predict(X_test), y_test, squared=False)\n",
        "    return train_rmse, test_rmse\n",
        "\n",
        "def test_param_and_plot(ModelClass, param_name, param_values, **other_params):\n",
        "    \"\"\"Trains multiple models by varying the value of param_name according to param_values\"\"\"\n",
        "    train_errors, test_errors = [], [] \n",
        "    for value in param_values:\n",
        "        params = dict(other_params)\n",
        "        params[param_name] = value\n",
        "        train_rmse, test_rmse = test_params(ModelClass, **params)\n",
        "        train_errors.append(train_rmse)\n",
        "        test_errors.append(test_rmse)\n",
        "    \n",
        "    plt.figure(figsize=(10,6))\n",
        "    plt.title('Overfitting curve: ' + param_name)\n",
        "    plt.plot(param_values, train_errors, 'b-o')\n",
        "    plt.plot(param_values, test_errors, 'r-o')\n",
        "    plt.xlabel(param_name)\n",
        "    plt.ylabel('RMSE')\n",
        "    plt.legend(['Training', 'Testing'])"
      ],
      "execution_count": null,
      "outputs": []
    },
    {
      "cell_type": "code",
      "metadata": {
        "id": "R3NxJ2_41dTM"
      },
      "source": [
        "best_params = {\n",
        "    'random_state': 42,\n",
        "    'n_jobs': -1,\n",
        "    'objective': 'reg:squarederror'\n",
        "}"
      ],
      "execution_count": null,
      "outputs": []
    },
    {
      "cell_type": "markdown",
      "metadata": {
        "id": "iW5CONvq1kKz"
      },
      "source": [
        "No of Trees"
      ]
    },
    {
      "cell_type": "code",
      "metadata": {
        "colab": {
          "base_uri": "https://localhost:8080/",
          "height": 440
        },
        "id": "2Gij7yAh1n35",
        "outputId": "95bcebc4-3258-4821-d9ef-ad3897afef5d"
      },
      "source": [
        "%%time \n",
        "test_param_and_plot(XGBRegressor, 'n_estimators', [100, 250, 500, 750, 1000], **best_params)"
      ],
      "execution_count": null,
      "outputs": [
        {
          "output_type": "stream",
          "name": "stdout",
          "text": [
            "CPU times: user 55min 58s, sys: 3.04 s, total: 56min 1s\n",
            "Wall time: 28min 30s\n"
          ]
        },
        {
          "output_type": "display_data",
          "data": {
            "image/png": "[encoded data removed]",
            "text/plain": [
              "<Figure size 720x432 with 1 Axes>"
            ]
          },
          "metadata": {
            "needs_background": "light"
          }
        }
      ]
    },
    {
      "cell_type": "code",
      "metadata": {
        "id": "1c6A0CcM_ykh"
      },
      "source": [
        "best_params['n_estimators'] = 250"
      ],
      "execution_count": null,
      "outputs": []
    },
    {
      "cell_type": "code",
      "metadata": {
        "colab": {
          "base_uri": "https://localhost:8080/",
          "height": 440
        },
        "id": "8doBxJox_2lL",
        "outputId": "2e38c714-c2f0-43cf-c047-8e32ba19c6d0"
      },
      "source": [
        "%%time \n",
        "test_param_and_plot(XGBRegressor, 'max_depth', [3, 4, 5], **best_params)"
      ],
      "execution_count": null,
      "outputs": [
        {
          "output_type": "stream",
          "name": "stdout",
          "text": [
            "CPU times: user 21min 32s, sys: 1.23 s, total: 21min 33s\n",
            "Wall time: 10min 58s\n"
          ]
        },
        {
          "output_type": "display_data",
          "data": {
            "image/png": "[encoded data removed]",
            "text/plain": [
              "<Figure size 720x432 with 1 Axes>"
            ]
          },
          "metadata": {
            "needs_background": "light"
          }
        }
      ]
    },
    {
      "cell_type": "code",
      "metadata": {
        "id": "n6VrmT33Eo_K"
      },
      "source": [
        "best_params['max_depth'] = 5"
      ],
      "execution_count": null,
      "outputs": []
    },
    {
      "cell_type": "code",
      "metadata": {
        "colab": {
          "base_uri": "https://localhost:8080/",
          "height": 440
        },
        "id": "siGkHxXEEp7f",
        "outputId": "167fe960-9a98-4e93-d95a-a6a9a35a95a9"
      },
      "source": [
        "%%time\n",
        "test_param_and_plot(XGBRegressor, 'learning_rate', [0.05, 0.1, 0.25], **best_params)"
      ],
      "execution_count": null,
      "outputs": [
        {
          "output_type": "stream",
          "name": "stdout",
          "text": [
            "CPU times: user 16min 15s, sys: 917 ms, total: 16min 16s\n",
            "Wall time: 8min 17s\n"
          ]
        },
        {
          "output_type": "display_data",
          "data": {
            "image/png": "[encoded data removed]",
            "text/plain": [
              "<Figure size 720x432 with 1 Axes>"
            ]
          },
          "metadata": {
            "needs_background": "light"
          }
        }
      ]
    },
    {
      "cell_type": "code",
      "metadata": {
        "id": "IOvbtpZME2lA"
      },
      "source": [
        "best_params['learning_rate'] = 0.25"
      ],
      "execution_count": null,
      "outputs": []
    },
    {
      "cell_type": "code",
      "metadata": {
        "id": "8lI_2v7ZHLYn"
      },
      "source": [
        "xgb_tuned = XGBRegressor(objective='reg:squarederror', n_jobs=-1, random_state=42,\n",
        "                               n_estimators=750, max_depth=5, learning_rate=0.25, \n",
        "                               )"
      ],
      "execution_count": null,
      "outputs": []
    },
    {
      "cell_type": "code",
      "metadata": {
        "colab": {
          "base_uri": "https://localhost:8080/"
        },
        "id": "0NkjzpKHHg1-",
        "outputId": "eab4c039-2f36-47b4-c992-7a766b7338c9"
      },
      "source": [
        "%%time\n",
        "xgb_tuned.fit(X_train,y_train)"
      ],
      "execution_count": null,
      "outputs": [
        {
          "output_type": "stream",
          "name": "stdout",
          "text": [
            "CPU times: user 25min 39s, sys: 1.47 s, total: 25min 40s\n",
            "Wall time: 13min 3s\n"
          ]
        },
        {
          "output_type": "execute_result",
          "data": {
            "text/plain": [
              "XGBRegressor(learning_rate=0.25, max_depth=5, n_estimators=750, n_jobs=-1,\n",
              "             objective='reg:squarederror', random_state=42)"
            ]
          },
          "metadata": {},
          "execution_count": 59
        }
      ]
    },
    {
      "cell_type": "code",
      "metadata": {
        "id": "ouWYw_fZNgFt"
      },
      "source": [
        "y_pred_train = xgb_tuned.predict(X_train)"
      ],
      "execution_count": null,
      "outputs": []
    },
    {
      "cell_type": "code",
      "metadata": {
        "id": "xq5umEU5Nq0Y"
      },
      "source": [
        "y_pred = xgb_tuned.predict(X_test)"
      ],
      "execution_count": null,
      "outputs": []
    },
    {
      "cell_type": "code",
      "metadata": {
        "colab": {
          "base_uri": "https://localhost:8080/"
        },
        "id": "YzX96Y2DN4dT",
        "outputId": "e92ec536-c773-4327-caa9-dd472e57db83"
      },
      "source": [
        "rmse = np.sqrt(mean_squared_error(y_train,y_pred_train))\n",
        "print(rmse)"
      ],
      "execution_count": null,
      "outputs": [
        {
          "output_type": "stream",
          "name": "stdout",
          "text": [
            "373.7556029710576\n"
          ]
        }
      ]
    },
    {
      "cell_type": "code",
      "metadata": {
        "colab": {
          "base_uri": "https://localhost:8080/"
        },
        "id": "_eltZmPUOCVP",
        "outputId": "5fbcad0f-bcd6-4ef7-989c-891b8af43800"
      },
      "source": [
        "rmse = np.sqrt(mean_squared_error(y_test,y_pred))\n",
        "print(rmse)"
      ],
      "execution_count": null,
      "outputs": [
        {
          "output_type": "stream",
          "name": "stdout",
          "text": [
            "389.45340826821814\n"
          ]
        }
      ]
    },
    {
      "cell_type": "code",
      "metadata": {
        "id": "NPr5MhmCVilp"
      },
      "source": [
        "final_pred = xgb_tuned.predict(X_test)"
      ],
      "execution_count": null,
      "outputs": []
    },
    {
      "cell_type": "code",
      "metadata": {
        "colab": {
          "base_uri": "https://localhost:8080/"
        },
        "id": "a1bXnwFaVnCX",
        "outputId": "35c9fc79-24ff-48f9-e897-e49dceee90e2"
      },
      "source": [
        "len(final_pred)"
      ],
      "execution_count": null,
      "outputs": [
        {
          "output_type": "execute_result",
          "data": {
            "text/plain": [
              "101716"
            ]
          },
          "metadata": {},
          "execution_count": 70
        }
      ]
    }
  ]
}